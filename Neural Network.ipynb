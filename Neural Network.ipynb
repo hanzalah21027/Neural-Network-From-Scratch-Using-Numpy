{
 "cells": [
  {
   "cell_type": "code",
   "execution_count": 1,
   "id": "dc894d13",
   "metadata": {},
   "outputs": [],
   "source": [
    "import numpy as np\n",
    "import matplotlib.pyplot as plt\n",
    "import idx2numpy\n",
    "from MLP import *\n",
    "import pandas as pd"
   ]
  },
  {
   "cell_type": "markdown",
   "id": "44daa98f",
   "metadata": {},
   "source": [
    "<h2>FASHION MNIST DATASET"
   ]
  },
  {
   "cell_type": "markdown",
   "id": "fd20785d",
   "metadata": {},
   "source": [
    "<h3>Preparing Data"
   ]
  },
  {
   "cell_type": "code",
   "execution_count": 12,
   "id": "1977e8a4",
   "metadata": {},
   "outputs": [
    {
     "data": {
      "text/plain": [
       "(1, 1, (784, 60000), (10, 60000))"
      ]
     },
     "execution_count": 12,
     "metadata": {},
     "output_type": "execute_result"
    }
   ],
   "source": [
    "X = idx2numpy.convert_from_file('Fashion MNIST/train-images-idx3-ubyte')\n",
    "Y = idx2numpy.convert_from_file('Fashion MNIST/train-labels-idx1-ubyte')\n",
    "X1, Y1 = dataloader(X, Y)\n",
    "X_train, Y_train = batchloader(X1, Y1, batch_size = 60000)\n",
    "len(X_train), len(Y_train), X_train[0].shape, Y_train[0].shape"
   ]
  },
  {
   "cell_type": "code",
   "execution_count": 3,
   "id": "211dcace",
   "metadata": {},
   "outputs": [
    {
     "data": {
      "text/plain": [
       "(1, 1, (784, 10000), (10, 10000))"
      ]
     },
     "execution_count": 3,
     "metadata": {},
     "output_type": "execute_result"
    }
   ],
   "source": [
    "X = idx2numpy.convert_from_file('Fashion MNIST/t10k-images-idx3-ubyte')\n",
    "Y = idx2numpy.convert_from_file('Fashion MNIST/t10k-labels-idx1-ubyte')\n",
    "X1, Y1 = dataloader(X, Y)\n",
    "X_test, Y_test = batchloader(X1, Y1, 10000)\n",
    "len(X_test), len(Y_test), X_test[0].shape, Y_test[0].shape"
   ]
  },
  {
   "cell_type": "markdown",
   "id": "35a18f48",
   "metadata": {},
   "source": [
    "<h3>Building Network"
   ]
  },
  {
   "cell_type": "code",
   "execution_count": 4,
   "id": "3e8266a5",
   "metadata": {},
   "outputs": [],
   "source": [
    "network = [\n",
    "    Linear(784, 256),\n",
    "    sigmoid(),\n",
    "    Linear(256, 128),\n",
    "    sigmoid(),\n",
    "    Linear(128, 10),\n",
    "    softmax()    \n",
    "]"
   ]
  },
  {
   "cell_type": "code",
   "execution_count": 5,
   "id": "dbe7cdc7",
   "metadata": {},
   "outputs": [],
   "source": [
    "nn = NeuralNetwork(network)"
   ]
  },
  {
   "cell_type": "code",
   "execution_count": 6,
   "id": "7020d32d",
   "metadata": {
    "scrolled": true
   },
   "outputs": [
    {
     "data": {
      "text/plain": [
       "[<Toolkit.Linear at 0x28216dbeaf0>,\n",
       " <Toolkit.sigmoid at 0x282677409a0>,\n",
       " <Toolkit.Linear at 0x2826773b880>,\n",
       " <Toolkit.sigmoid at 0x282677305b0>,\n",
       " <Toolkit.Linear at 0x28267730610>,\n",
       " <Toolkit.softmax at 0x28216dbef40>]"
      ]
     },
     "execution_count": 6,
     "metadata": {},
     "output_type": "execute_result"
    }
   ],
   "source": [
    "network"
   ]
  },
  {
   "cell_type": "markdown",
   "id": "bc082120",
   "metadata": {},
   "source": [
    "<h3>Training Network"
   ]
  },
  {
   "cell_type": "code",
   "execution_count": 7,
   "id": "25b49e8e",
   "metadata": {
    "scrolled": true
   },
   "outputs": [
    {
     "name": "stdout",
     "output_type": "stream",
     "text": [
      "Error at Epoch 1 is 0.052583395928168165\n",
      "Error at Epoch 2 is 0.04316701664302589\n",
      "Error at Epoch 3 is 0.03771099418698857\n",
      "Error at Epoch 4 is 0.03116907670197559\n",
      "Error at Epoch 5 is 0.02682141504032487\n",
      "Error at Epoch 6 is 0.023941783811521178\n",
      "Error at Epoch 7 is 0.022679777729582223\n",
      "Error at Epoch 8 is 0.021662709585783195\n",
      "Error at Epoch 9 is 0.02073997398578262\n",
      "Error at Epoch 10 is 0.020268578510875324\n",
      "Error at Epoch 11 is 0.01980275306110397\n",
      "Error at Epoch 12 is 0.019385450944677435\n",
      "Error at Epoch 13 is 0.019049099826337883\n",
      "Error at Epoch 14 is 0.018686763128402565\n",
      "Error at Epoch 15 is 0.01824732245526505\n",
      "Error at Epoch 16 is 0.017844550064980303\n",
      "Error at Epoch 17 is 0.017454475136484043\n",
      "Error at Epoch 18 is 0.0170320500649254\n",
      "Error at Epoch 19 is 0.016535007121857737\n",
      "Error at Epoch 20 is 0.015938194160708317\n",
      "Error at Epoch 21 is 0.01524819420124664\n",
      "Error at Epoch 22 is 0.014526460677239002\n",
      "Error at Epoch 23 is 0.013837319926510643\n",
      "Error at Epoch 24 is 0.013225648135526619\n",
      "Error at Epoch 25 is 0.012704285900846577\n",
      "Error at Epoch 26 is 0.012255646589548433\n",
      "Error at Epoch 27 is 0.011865459293460782\n",
      "Error at Epoch 28 is 0.01152483253619235\n",
      "Error at Epoch 29 is 0.011212344558229153\n",
      "Error at Epoch 30 is 0.01092752606293414\n",
      "Error at Epoch 31 is 0.010684432487219547\n",
      "Error at Epoch 32 is 0.010476227126831661\n",
      "Error at Epoch 33 is 0.010273065960690256\n",
      "Error at Epoch 34 is 0.010052551103275766\n",
      "Error at Epoch 35 is 0.009804745654178248\n",
      "Error at Epoch 36 is 0.009553686727521146\n",
      "Error at Epoch 37 is 0.009344712869989124\n",
      "Error at Epoch 38 is 0.009215873444480872\n",
      "Error at Epoch 39 is 0.009178243739474342\n",
      "Error at Epoch 40 is 0.009206575277926893\n",
      "Error at Epoch 41 is 0.009256682662301905\n",
      "Error at Epoch 42 is 0.009307346707348561\n",
      "Error at Epoch 43 is 0.009418647203878186\n",
      "Error at Epoch 44 is 0.009607681625472075\n",
      "Error at Epoch 45 is 0.009839224382607464\n",
      "Error at Epoch 46 is 0.010066658064048228\n",
      "Error at Epoch 47 is 0.010247082208524152\n",
      "Error at Epoch 48 is 0.010403244387150522\n",
      "Error at Epoch 49 is 0.010580611337927716\n",
      "Error at Epoch 50 is 0.010798166662881423\n",
      "Error at Epoch 51 is 0.011044734744535937\n",
      "Error at Epoch 52 is 0.011311485662763984\n",
      "Error at Epoch 53 is 0.011569235564330264\n",
      "Error at Epoch 54 is 0.01180490289328261\n",
      "Error at Epoch 55 is 0.012044689525707369\n",
      "Error at Epoch 56 is 0.012276028666711392\n",
      "Error at Epoch 57 is 0.012440985035938969\n",
      "Error at Epoch 58 is 0.012543185818412428\n",
      "Error at Epoch 59 is 0.012657929392830055\n",
      "Error at Epoch 60 is 0.012685239214972912\n",
      "Error at Epoch 61 is 0.012414810012544113\n",
      "Error at Epoch 62 is 0.011610123165300367\n",
      "Error at Epoch 63 is 0.010385706882894271\n",
      "Error at Epoch 64 is 0.009038476354637111\n",
      "Error at Epoch 65 is 0.008066158010998886\n",
      "Error at Epoch 66 is 0.007535446131536572\n",
      "Error at Epoch 67 is 0.007059978191759483\n",
      "Error at Epoch 68 is 0.006655816480140175\n",
      "Error at Epoch 69 is 0.006258998177071784\n",
      "Error at Epoch 70 is 0.005808909227935785\n",
      "Error at Epoch 71 is 0.00525324730978841\n",
      "Error at Epoch 72 is 0.004774439647641003\n",
      "Error at Epoch 73 is 0.0046493206127047205\n",
      "Error at Epoch 74 is 0.0045134725854044724\n",
      "Error at Epoch 75 is 0.004295590263365502\n",
      "Error at Epoch 76 is 0.004178005735772451\n",
      "Error at Epoch 77 is 0.004133924809971152\n",
      "Error at Epoch 78 is 0.004422839500502556\n",
      "Error at Epoch 79 is 0.004755311416754051\n",
      "Error at Epoch 80 is 0.0035518470290993955\n",
      "Error at Epoch 81 is 0.003163620591662787\n",
      "Error at Epoch 82 is 0.0026729215567958915\n",
      "Error at Epoch 83 is 0.0028615923950483777\n",
      "Error at Epoch 84 is 0.002892299774824518\n",
      "Error at Epoch 85 is 0.002639530981519146\n",
      "Error at Epoch 86 is 0.002471056203504732\n",
      "Error at Epoch 87 is 0.001925344382919714\n",
      "Error at Epoch 88 is 0.005672207205075339\n",
      "Error at Epoch 89 is 0.004493204047416351\n",
      "Error at Epoch 90 is 0.0022880956171389727\n",
      "Error at Epoch 91 is 0.0031006514850907387\n",
      "Error at Epoch 92 is 0.004263586102665121\n",
      "Error at Epoch 93 is 0.0017386755833638935\n",
      "Error at Epoch 94 is 0.0064385571161099985\n",
      "Error at Epoch 95 is 0.0031262072769991088\n",
      "Error at Epoch 96 is 0.001999562629288354\n",
      "Error at Epoch 97 is 0.0018694325566649573\n",
      "Error at Epoch 98 is 0.0014762464659043254\n",
      "Error at Epoch 99 is 0.0026236338363853505\n",
      "Error at Epoch 100 is 0.002320333616026697\n"
     ]
    },
    {
     "data": {
      "image/png": "[encoded data removed]",
      "text/plain": [
       "<Figure size 576x360 with 1 Axes>"
      ]
     },
     "metadata": {},
     "output_type": "display_data"
    },
    {
     "name": "stdout",
     "output_type": "stream",
     "text": [
      "Wall time: 12min 36s\n"
     ]
    }
   ],
   "source": [
    "%%time\n",
    "filename = r\"Output\\Models\\GD-lr-0.9-sig-sig\"\n",
    "trainNetwork(nn, X_train, Y_train , epoch = 201, lr = 0.00005 , momentum = 0, beta = 0.9, gamma = 0.99,\n",
    "             optimiser = \"Adam\", filename= filename, save = False)"
   ]
  },
  {
   "cell_type": "code",
   "execution_count": 8,
   "id": "22a8da6b",
   "metadata": {},
   "outputs": [
    {
     "name": "stdout",
     "output_type": "stream",
     "text": [
      "Accuracy of the Network:  98.4375\n"
     ]
    }
   ],
   "source": [
    "print(\"Accuracy of the Network: \", nn.predict(X_train[5], Y_train[5]))"
   ]
  },
  {
   "cell_type": "markdown",
   "id": "344fb080",
   "metadata": {},
   "source": [
    "<h3>Testing Network"
   ]
  },
  {
   "cell_type": "code",
   "execution_count": 10,
   "id": "d7ba7187",
   "metadata": {},
   "outputs": [
    {
     "name": "stdout",
     "output_type": "stream",
     "text": [
      "Accuracy of the Network:  75.92\n"
     ]
    }
   ],
   "source": [
    "filename = r\"Output\\Models\\GD-lr-0.9-sig-sig\"\n",
    "model = nn.load_state_dict(f\"{filename}.pkl\")\n",
    "test = NeuralNetwork(model)\n",
    "print(\"Accuracy of the Network: \", test.predict(X_test[0], Y_test[0]))"
   ]
  },
  {
   "cell_type": "code",
   "execution_count": 3,
   "id": "a3bc3c34",
   "metadata": {},
   "outputs": [
    {
     "data": {
      "text/html": [
       "<div>\n",
       "<style scoped>\n",
       "    .dataframe tbody tr th:only-of-type {\n",
       "        vertical-align: middle;\n",
       "    }\n",
       "\n",
       "    .dataframe tbody tr th {\n",
       "        vertical-align: top;\n",
       "    }\n",
       "\n",
       "    .dataframe thead th {\n",
       "        text-align: right;\n",
       "    }\n",
       "</style>\n",
       "<table border=\"1\" class=\"dataframe\">\n",
       "  <thead>\n",
       "    <tr style=\"text-align: right;\">\n",
       "      <th></th>\n",
       "      <th>Model</th>\n",
       "      <th>Training Accuracy</th>\n",
       "      <th>Testing Accuracy</th>\n",
       "    </tr>\n",
       "  </thead>\n",
       "  <tbody>\n",
       "    <tr>\n",
       "      <th>0</th>\n",
       "      <td>GD-lr-0.05-ReLu</td>\n",
       "      <td>73.513333</td>\n",
       "      <td>72.37</td>\n",
       "    </tr>\n",
       "    <tr>\n",
       "      <th>1</th>\n",
       "      <td>GD-lr-0.05-tanh-tanh</td>\n",
       "      <td>59.705000</td>\n",
       "      <td>57.03</td>\n",
       "    </tr>\n",
       "    <tr>\n",
       "      <th>2</th>\n",
       "      <td>GD-lr-0.1-tanh-sig</td>\n",
       "      <td>61.428333</td>\n",
       "      <td>60.46</td>\n",
       "    </tr>\n",
       "    <tr>\n",
       "      <th>3</th>\n",
       "      <td>GD-lr-0.2-ReLu</td>\n",
       "      <td>73.980000</td>\n",
       "      <td>72.77</td>\n",
       "    </tr>\n",
       "    <tr>\n",
       "      <th>4</th>\n",
       "      <td>GD-lr-0.2-sig-sig</td>\n",
       "      <td>72.723333</td>\n",
       "      <td>71.83</td>\n",
       "    </tr>\n",
       "    <tr>\n",
       "      <th>5</th>\n",
       "      <td>GD-lr-0.5-ReLu</td>\n",
       "      <td>67.973333</td>\n",
       "      <td>67.59</td>\n",
       "    </tr>\n",
       "    <tr>\n",
       "      <th>6</th>\n",
       "      <td>GD-lr-0.5-sig-sig</td>\n",
       "      <td>73.896667</td>\n",
       "      <td>72.55</td>\n",
       "    </tr>\n",
       "    <tr>\n",
       "      <th>7</th>\n",
       "      <td>GD-lr-0.5-tanh-sig</td>\n",
       "      <td>74.518333</td>\n",
       "      <td>71.66</td>\n",
       "    </tr>\n",
       "    <tr>\n",
       "      <th>8</th>\n",
       "      <td>GD-lr-0.5-tanh-tanh</td>\n",
       "      <td>75.796667</td>\n",
       "      <td>70.53</td>\n",
       "    </tr>\n",
       "    <tr>\n",
       "      <th>9</th>\n",
       "      <td>GD-lr-0.9-sig-sig</td>\n",
       "      <td>77.253333</td>\n",
       "      <td>75.92</td>\n",
       "    </tr>\n",
       "    <tr>\n",
       "      <th>10</th>\n",
       "      <td>GD-lr-0.9-tanh-tanh</td>\n",
       "      <td>76.578333</td>\n",
       "      <td>72.29</td>\n",
       "    </tr>\n",
       "    <tr>\n",
       "      <th>11</th>\n",
       "      <td>GD-lr-1-tanh-sig</td>\n",
       "      <td>76.465000</td>\n",
       "      <td>73.82</td>\n",
       "    </tr>\n",
       "  </tbody>\n",
       "</table>\n",
       "</div>"
      ],
      "text/plain": [
       "                   Model  Training Accuracy  Testing Accuracy\n",
       "0        GD-lr-0.05-ReLu          73.513333             72.37\n",
       "1   GD-lr-0.05-tanh-tanh          59.705000             57.03\n",
       "2     GD-lr-0.1-tanh-sig          61.428333             60.46\n",
       "3         GD-lr-0.2-ReLu          73.980000             72.77\n",
       "4      GD-lr-0.2-sig-sig          72.723333             71.83\n",
       "5         GD-lr-0.5-ReLu          67.973333             67.59\n",
       "6      GD-lr-0.5-sig-sig          73.896667             72.55\n",
       "7     GD-lr-0.5-tanh-sig          74.518333             71.66\n",
       "8    GD-lr-0.5-tanh-tanh          75.796667             70.53\n",
       "9      GD-lr-0.9-sig-sig          77.253333             75.92\n",
       "10   GD-lr-0.9-tanh-tanh          76.578333             72.29\n",
       "11      GD-lr-1-tanh-sig          76.465000             73.82"
      ]
     },
     "execution_count": 3,
     "metadata": {},
     "output_type": "execute_result"
    }
   ],
   "source": [
    "df = pd.read_excel(r\"Output\\Neural Network Gradient Descent Training and Testing Accuracy.xlsx\", index_col = 0)\n",
    "df"
   ]
  },
  {
   "cell_type": "code",
   "execution_count": 14,
   "id": "e48f7014",
   "metadata": {},
   "outputs": [
    {
     "name": "stdout",
     "output_type": "stream",
     "text": [
      "AdaGrad-0.0005-sig-sig\n",
      "Test Accuracy of the Network:  73.9\n",
      "Train Accuracy of the Network:  74.99666666666667\n",
      "\n",
      "\n",
      "Adam-0.0005-sig-sig\n",
      "Test Accuracy of the Network:  85.77\n",
      "Train Accuracy of the Network:  97.165\n",
      "\n",
      "\n",
      "GD-lr-0.05-ReLu\n",
      "Test Accuracy of the Network:  72.37\n",
      "Train Accuracy of the Network:  73.51333333333334\n",
      "\n",
      "\n",
      "GD-lr-0.9-sig-sig\n",
      "Test Accuracy of the Network:  75.92\n",
      "Train Accuracy of the Network:  77.25333333333333\n",
      "\n",
      "\n",
      "GD-lr-1-tanh-sig\n",
      "Test Accuracy of the Network:  73.82\n",
      "Train Accuracy of the Network:  76.465\n",
      "\n",
      "\n",
      "Momentum-0.0005-sig-sig\n",
      "Test Accuracy of the Network:  70.41\n",
      "Train Accuracy of the Network:  71.07\n",
      "\n",
      "\n",
      "NAG-0.0005-sig-sig\n",
      "Test Accuracy of the Network:  70.01\n",
      "Train Accuracy of the Network:  70.92666666666666\n",
      "\n",
      "\n",
      "RMSProp-0.0005-sig-sig\n",
      "Test Accuracy of the Network:  86.08\n",
      "Train Accuracy of the Network:  96.49666666666667\n",
      "\n",
      "\n"
     ]
    }
   ],
   "source": [
    "# Showing Models Accuracy\n",
    "\n",
    "import os\n",
    "for filename in os.listdir(\"Output\\Models\"):\n",
    "    print(filename[:-4])\n",
    "    model = nn.load_state_dict(os.path.join(\"Output\\Models\" , filename))\n",
    "    test = NeuralNetwork(model)\n",
    "    print(\"Test Accuracy of the Network: \", test.predict(X_test[0], Y_test[0]))\n",
    "    print(\"Train Accuracy of the Network: \", test.predict(X_train[0], Y_train[0]))\n",
    "    print(\"\\n\")"
   ]
  },
  {
   "cell_type": "code",
   "execution_count": 15,
   "id": "9df160ef",
   "metadata": {},
   "outputs": [
    {
     "data": {
      "text/html": [
       "<div>\n",
       "<style scoped>\n",
       "    .dataframe tbody tr th:only-of-type {\n",
       "        vertical-align: middle;\n",
       "    }\n",
       "\n",
       "    .dataframe tbody tr th {\n",
       "        vertical-align: top;\n",
       "    }\n",
       "\n",
       "    .dataframe thead th {\n",
       "        text-align: right;\n",
       "    }\n",
       "</style>\n",
       "<table border=\"1\" class=\"dataframe\">\n",
       "  <thead>\n",
       "    <tr style=\"text-align: right;\">\n",
       "      <th></th>\n",
       "      <th>Model</th>\n",
       "      <th>Training Accuracy</th>\n",
       "      <th>Testing Accuracy</th>\n",
       "    </tr>\n",
       "  </thead>\n",
       "  <tbody>\n",
       "    <tr>\n",
       "      <th>0</th>\n",
       "      <td>Adam</td>\n",
       "      <td>97.17</td>\n",
       "      <td>85.77</td>\n",
       "    </tr>\n",
       "    <tr>\n",
       "      <th>1</th>\n",
       "      <td>Adagrad</td>\n",
       "      <td>75.00</td>\n",
       "      <td>73.90</td>\n",
       "    </tr>\n",
       "    <tr>\n",
       "      <th>2</th>\n",
       "      <td>RMSProp</td>\n",
       "      <td>96.50</td>\n",
       "      <td>86.08</td>\n",
       "    </tr>\n",
       "    <tr>\n",
       "      <th>3</th>\n",
       "      <td>Momentum SGD</td>\n",
       "      <td>71.07</td>\n",
       "      <td>70.41</td>\n",
       "    </tr>\n",
       "    <tr>\n",
       "      <th>4</th>\n",
       "      <td>NAG</td>\n",
       "      <td>71.00</td>\n",
       "      <td>70.01</td>\n",
       "    </tr>\n",
       "  </tbody>\n",
       "</table>\n",
       "</div>"
      ],
      "text/plain": [
       "          Model  Training Accuracy  Testing Accuracy\n",
       "0          Adam              97.17             85.77\n",
       "1       Adagrad              75.00             73.90\n",
       "2       RMSProp              96.50             86.08\n",
       "3  Momentum SGD              71.07             70.41\n",
       "4           NAG              71.00             70.01"
      ]
     },
     "execution_count": 15,
     "metadata": {},
     "output_type": "execute_result"
    }
   ],
   "source": [
    "df = pd.read_excel(r\"Output\\Neural Network  Training and Testing Accuracy with different optimizers.xlsx\", index_col = 0)\n",
    "df"
   ]
  },
  {
   "cell_type": "code",
   "execution_count": null,
   "id": "a3aa5cd5",
   "metadata": {},
   "outputs": [],
   "source": []
  }
 ],
 "metadata": {
  "kernelspec": {
   "display_name": "Python 3 (ipykernel)",
   "language": "python",
   "name": "python3"
  },
  "language_info": {
   "codemirror_mode": {
    "name": "ipython",
    "version": 3
   },
   "file_extension": ".py",
   "mimetype": "text/x-python",
   "name": "python",
   "nbconvert_exporter": "python",
   "pygments_lexer": "ipython3",
   "version": "3.9.7"
  }
 },
 "nbformat": 4,
 "nbformat_minor": 5
}
